{
    "cells": [
        {
            "cell_type": "markdown",
            "source": [
                "# Linkedin Learning: Python Automation "
            ],
            "metadata": {}
        },
        {
            "cell_type": "markdown",
            "source": [
                "## 1. Automating Data Manipulation and Validation"
            ],
            "metadata": {}
        },
        {
            "cell_type": "code",
            "execution_count": null,
            "source": [
                "# Read File\n",
                "input_file = open(\"inputFile.txt\", \"r\")\n",
                "for line in input_file:\n",
                "    line_split = line.split()\n",
                "    if line_split[2] == \"P\":\n",
                "        print(line)\n",
                "input_file.close()"
            ],
            "outputs": [],
            "metadata": {}
        },
        {
            "cell_type": "code",
            "execution_count": 4,
            "source": [
                "# Write File\n",
                "\n",
                "# Read file for data extraction\n",
                "input_file = open(\"inputFile.txt\", \"r\")\n",
                "\n",
                "# Read file for entering data\n",
                "pass_file = open(\"passFile.txt\", \"w\")\n",
                "fail_file = open(\"failFile.txt\", \"w\")\n",
                "\n",
                "# Data extraction using for loop\n",
                "for line in input_file:\n",
                "    line_split = line.split()\n",
                "    if line_split[2] == \"P\":\n",
                "        pass_file.write(line)\n",
                "    else:\n",
                "        fail_file.write(line)\n",
                "\n",
                "# Close file\n",
                "input_file.close()\n",
                "pass_file.close()\n",
                "fail_file.close()\n"
            ],
            "outputs": [],
            "metadata": {}
        },
        {
            "cell_type": "code",
            "execution_count": 15,
            "source": [
                "# Command line interface\n",
                "import subprocess\n",
                "import sys\n",
                "\n",
                "for i in range(5):\n",
                "    subprocess.check_call([sys.executable, \"example.py\"])\n"
            ],
            "outputs": [],
            "metadata": {}
        },
        {
            "cell_type": "code",
            "execution_count": null,
            "source": [],
            "outputs": [],
            "metadata": {}
        }
    ],
    "metadata": {
        "orig_nbformat": 4,
        "language_info": {
            "name": "python",
            "version": "3.11.4",
            "mimetype": "text/x-python",
            "codemirror_mode": {
                "name": "ipython",
                "version": 3
            },
            "pygments_lexer": "ipython3",
            "nbconvert_exporter": "python",
            "file_extension": ".py"
        },
        "kernelspec": {
            "name": "python3",
            "display_name": "Python 3.11.4 64-bit ('desti': virtualenv)"
        },
        "interpreter": {
            "hash": "14f685b93344d9be8bc3105cb11784fe9cb5aea4889a7cdc7d425e57f8a0455b"
        }
    },
    "nbformat": 4,
    "nbformat_minor": 2
}